{
 "cells": [
  {
   "cell_type": "markdown",
   "metadata": {},
   "source": [
    "# Import av biblioteker"
   ]
  },
  {
   "cell_type": "code",
   "execution_count": 1,
   "metadata": {},
   "outputs": [],
   "source": [
    "import pandas as pd"
   ]
  },
  {
   "cell_type": "markdown",
   "metadata": {},
   "source": [
    "# Gjennomgang Betalinger"
   ]
  },
  {
   "cell_type": "code",
   "execution_count": 2,
   "metadata": {},
   "outputs": [
    {
     "name": "stdout",
     "output_type": "stream",
     "text": [
      "Nullverdier:\n",
      "Medlemsnummer     0\n",
      "Beløp             0\n",
      "Periode           0\n",
      "Innbetalt_dato    0\n",
      "dtype: int64\n"
     ]
    },
    {
     "data": {
      "text/html": [
       "<div>\n",
       "<style scoped>\n",
       "    .dataframe tbody tr th:only-of-type {\n",
       "        vertical-align: middle;\n",
       "    }\n",
       "\n",
       "    .dataframe tbody tr th {\n",
       "        vertical-align: top;\n",
       "    }\n",
       "\n",
       "    .dataframe thead th {\n",
       "        text-align: right;\n",
       "    }\n",
       "</style>\n",
       "<table border=\"1\" class=\"dataframe\">\n",
       "  <thead>\n",
       "    <tr style=\"text-align: right;\">\n",
       "      <th></th>\n",
       "      <th>Medlemsnummer</th>\n",
       "      <th>Beløp</th>\n",
       "      <th>Periode</th>\n",
       "      <th>Innbetalt_dato</th>\n",
       "    </tr>\n",
       "  </thead>\n",
       "  <tbody>\n",
       "    <tr>\n",
       "      <th>0</th>\n",
       "      <td>62</td>\n",
       "      <td>750</td>\n",
       "      <td>2023</td>\n",
       "      <td>14.05.2023</td>\n",
       "    </tr>\n",
       "    <tr>\n",
       "      <th>1</th>\n",
       "      <td>87</td>\n",
       "      <td>900</td>\n",
       "      <td>2023</td>\n",
       "      <td>18.05.2023</td>\n",
       "    </tr>\n",
       "    <tr>\n",
       "      <th>2</th>\n",
       "      <td>99</td>\n",
       "      <td>900</td>\n",
       "      <td>2023</td>\n",
       "      <td>30.06.2023</td>\n",
       "    </tr>\n",
       "    <tr>\n",
       "      <th>3</th>\n",
       "      <td>71</td>\n",
       "      <td>750</td>\n",
       "      <td>2023</td>\n",
       "      <td>03.05.2023</td>\n",
       "    </tr>\n",
       "    <tr>\n",
       "      <th>4</th>\n",
       "      <td>52</td>\n",
       "      <td>900</td>\n",
       "      <td>2023</td>\n",
       "      <td>14.05.2023</td>\n",
       "    </tr>\n",
       "  </tbody>\n",
       "</table>\n",
       "</div>"
      ],
      "text/plain": [
       "   Medlemsnummer  Beløp   Periode  Innbetalt_dato\n",
       "0             62     750      2023     14.05.2023\n",
       "1             87     900      2023     18.05.2023\n",
       "2             99     900      2023     30.06.2023\n",
       "3             71     750      2023     03.05.2023\n",
       "4             52     900      2023     14.05.2023"
      ]
     },
     "execution_count": 2,
     "metadata": {},
     "output_type": "execute_result"
    }
   ],
   "source": [
    "df_betalinger = pd.read_csv('data/Datagrunnlag-Betalinger.csv', sep=';')\n",
    "\n",
    "print(f\"Nullverdier:\\n{df_betalinger.isnull().sum()}\")\n",
    "\n",
    "df_betalinger.head()"
   ]
  },
  {
   "cell_type": "markdown",
   "metadata": {},
   "source": [
    "Starter med et raskt overblikk over dataene i CSV-filen og ser at kolonnenavnene har mellomrom i seg. Vi har heldigvis ingen nullverdier."
   ]
  },
  {
   "cell_type": "code",
   "execution_count": 3,
   "metadata": {},
   "outputs": [
    {
     "name": "stdout",
     "output_type": "stream",
     "text": [
      "Medlemsnummer\n",
      "42    3\n",
      "87    1\n",
      "62    1\n",
      "71    1\n",
      "52    1\n",
      "     ..\n",
      "12    1\n",
      "85    1\n",
      "72    1\n",
      "73    1\n",
      "68    1\n",
      "Name: count, Length: 83, dtype: int64\n",
      "\n",
      "34    1\n",
      "50    2\n",
      "76    3\n",
      "Name: Medlemsnummer, dtype: int64\n",
      "\n",
      "11    96\n",
      "18    98\n",
      "2     99\n",
      "Name: Medlemsnummer, dtype: int64\n"
     ]
    }
   ],
   "source": [
    "print(df_betalinger['Medlemsnummer'].value_counts())\n",
    "\n",
    "s_medlemsnummer = df_betalinger['Medlemsnummer'].sort_values()\n",
    "\n",
    "print()\n",
    "print(s_medlemsnummer.head(3))\n",
    "\n",
    "print()\n",
    "print(s_medlemsnummer.tail(3))"
   ]
  },
  {
   "cell_type": "markdown",
   "metadata": {},
   "source": [
    "Det ser ut til at vi har et medlem som har betalt for seg flere ganger. Dette virker rart med tanke på at ingen andre har gjort det, samt at de mest sannsynlig har betalt flere ganger i innen samme årsperiode."
   ]
  },
  {
   "cell_type": "code",
   "execution_count": 4,
   "metadata": {},
   "outputs": [
    {
     "name": "stdout",
     "output_type": "stream",
     "text": [
      "Beløp \n",
      "750    45\n",
      "900    37\n",
      "400     3\n",
      "Name: count, dtype: int64\n"
     ]
    }
   ],
   "source": [
    "print(df_betalinger['Beløp '].value_counts())"
   ]
  },
  {
   "cell_type": "markdown",
   "metadata": {},
   "source": [
    "**Problem**: Kolonna 'Beløp ' har et mellomrom i seg.\n",
    "\n",
    "Vi har noen avvik på 400 kroner i betalinger, men dette trenger ikke være et problem. Kan høre med kunde, samt sjekke kontigentdataene."
   ]
  },
  {
   "cell_type": "code",
   "execution_count": 5,
   "metadata": {},
   "outputs": [
    {
     "name": "stdout",
     "output_type": "stream",
     "text": [
      "Periode \n",
      "2023    84\n",
      "2022     1\n",
      "Name: count, dtype: int64\n"
     ]
    }
   ],
   "source": [
    "print(df_betalinger['Periode '].value_counts())"
   ]
  },
  {
   "cell_type": "markdown",
   "metadata": {},
   "source": [
    "**Problem**: Kolonna 'Periode ' har et mellomrom i seg.\n",
    "\n",
    "I analysen av Periode legger man merke til at det er én verdi fra 2022, mens alle andre verdier er fra 2023. Dette kan være en feil i data og vi må sjekke med kunden om dette er riktig."
   ]
  },
  {
   "cell_type": "code",
   "execution_count": 6,
   "metadata": {},
   "outputs": [
    {
     "name": "stdout",
     "output_type": "stream",
     "text": [
      "Innbetalt_dato\n",
      "14.05.2023    22\n",
      "18.05.2023    21\n",
      "03.05.2023    21\n",
      "30.06.2023    20\n",
      "30.12.2023     1\n",
      "Name: count, dtype: int64\n"
     ]
    }
   ],
   "source": [
    "print(df_betalinger['Innbetalt_dato'].value_counts())"
   ]
  },
  {
   "cell_type": "markdown",
   "metadata": {},
   "source": [
    "I analysen av Innbetalt_dato ser man at det er en innbetaling gjort 2023-30-12. Man spør seg om dette er en outlier."
   ]
  },
  {
   "cell_type": "markdown",
   "metadata": {},
   "source": [
    "# Gjennomgang Kontigent"
   ]
  },
  {
   "cell_type": "code",
   "execution_count": 7,
   "metadata": {},
   "outputs": [
    {
     "name": "stdout",
     "output_type": "stream",
     "text": [
      "Nullverdier:\n",
      "Medlemstype     0\n",
      "kontingent      0\n",
      "Periode         0\n",
      "Aldersgruppe    0\n",
      "dtype: int64\n"
     ]
    },
    {
     "data": {
      "text/html": [
       "<div>\n",
       "<style scoped>\n",
       "    .dataframe tbody tr th:only-of-type {\n",
       "        vertical-align: middle;\n",
       "    }\n",
       "\n",
       "    .dataframe tbody tr th {\n",
       "        vertical-align: top;\n",
       "    }\n",
       "\n",
       "    .dataframe thead th {\n",
       "        text-align: right;\n",
       "    }\n",
       "</style>\n",
       "<table border=\"1\" class=\"dataframe\">\n",
       "  <thead>\n",
       "    <tr style=\"text-align: right;\">\n",
       "      <th></th>\n",
       "      <th>Medlemstype</th>\n",
       "      <th>kontingent</th>\n",
       "      <th>Periode</th>\n",
       "      <th>Aldersgruppe</th>\n",
       "    </tr>\n",
       "  </thead>\n",
       "  <tbody>\n",
       "    <tr>\n",
       "      <th>0</th>\n",
       "      <td>Senior</td>\n",
       "      <td>900</td>\n",
       "      <td>2023</td>\n",
       "      <td>18-60</td>\n",
       "    </tr>\n",
       "    <tr>\n",
       "      <th>1</th>\n",
       "      <td>Junior</td>\n",
       "      <td>400</td>\n",
       "      <td>2023</td>\n",
       "      <td>10-17</td>\n",
       "    </tr>\n",
       "    <tr>\n",
       "      <th>2</th>\n",
       "      <td>Veteran</td>\n",
       "      <td>750</td>\n",
       "      <td>2023</td>\n",
       "      <td>60 +</td>\n",
       "    </tr>\n",
       "    <tr>\n",
       "      <th>3</th>\n",
       "      <td>Senior</td>\n",
       "      <td>850</td>\n",
       "      <td>2022</td>\n",
       "      <td>18-60</td>\n",
       "    </tr>\n",
       "    <tr>\n",
       "      <th>4</th>\n",
       "      <td>Junior</td>\n",
       "      <td>350</td>\n",
       "      <td>2022</td>\n",
       "      <td>10-17</td>\n",
       "    </tr>\n",
       "  </tbody>\n",
       "</table>\n",
       "</div>"
      ],
      "text/plain": [
       "  Medlemstype  kontingent   Periode Aldersgruppe\n",
       "0      Senior          900     2023        18-60\n",
       "1     Junior           400     2023        10-17\n",
       "2     Veteran          750     2023        60 + \n",
       "3      Senior          850     2022        18-60\n",
       "4     Junior           350     2022        10-17"
      ]
     },
     "execution_count": 7,
     "metadata": {},
     "output_type": "execute_result"
    }
   ],
   "source": [
    "df_kontigent = pd.read_csv('data/Datagrunnlag-kontingent.csv', sep=';')\n",
    "\n",
    "print(f\"Nullverdier:\\n{df_kontigent.isnull().sum()}\")\n",
    "\n",
    "df_kontigent.head()"
   ]
  },
  {
   "cell_type": "markdown",
   "metadata": {},
   "source": [
    "Denne fila er betydelig mer overkommelig og vi leser rett fra teksteditor.\n",
    "\n",
    "Noterer følgende feil:\n",
    "- Kolonna 'kontingent ' har liten K og mellomrom på slutten.\n",
    "- Aldersgruppe '60 + ' har mellomrom på slutten."
   ]
  },
  {
   "cell_type": "markdown",
   "metadata": {},
   "source": [
    "# Gjennomgang Medlemmer"
   ]
  },
  {
   "cell_type": "code",
   "execution_count": 8,
   "metadata": {},
   "outputs": [
    {
     "name": "stdout",
     "output_type": "stream",
     "text": [
      "Nullverdier:\n",
      "Medlemsnummer     0\n",
      "Fornavn           0\n",
      "Etternavn         1\n",
      "Fødselsdato       0\n",
      "Kjønn             0\n",
      "Medlemstype       0\n",
      "Gateadresse       0\n",
      "Postnummer        0\n",
      "Poststed          1\n",
      "Unnamed: 9       99\n",
      "Unnamed: 10      99\n",
      "dtype: int64\n",
      "Datarammens lengde: 99\n"
     ]
    },
    {
     "data": {
      "text/html": [
       "<div>\n",
       "<style scoped>\n",
       "    .dataframe tbody tr th:only-of-type {\n",
       "        vertical-align: middle;\n",
       "    }\n",
       "\n",
       "    .dataframe tbody tr th {\n",
       "        vertical-align: top;\n",
       "    }\n",
       "\n",
       "    .dataframe thead th {\n",
       "        text-align: right;\n",
       "    }\n",
       "</style>\n",
       "<table border=\"1\" class=\"dataframe\">\n",
       "  <thead>\n",
       "    <tr style=\"text-align: right;\">\n",
       "      <th></th>\n",
       "      <th>Medlemsnummer</th>\n",
       "      <th>Fornavn</th>\n",
       "      <th>Etternavn</th>\n",
       "      <th>Fødselsdato</th>\n",
       "      <th>Kjønn</th>\n",
       "      <th>Medlemstype</th>\n",
       "      <th>Gateadresse</th>\n",
       "      <th>Postnummer</th>\n",
       "      <th>Poststed</th>\n",
       "      <th>Unnamed: 9</th>\n",
       "      <th>Unnamed: 10</th>\n",
       "    </tr>\n",
       "  </thead>\n",
       "  <tbody>\n",
       "    <tr>\n",
       "      <th>0</th>\n",
       "      <td>62</td>\n",
       "      <td>Sahra</td>\n",
       "      <td>AAS</td>\n",
       "      <td>28.03.1963</td>\n",
       "      <td>F</td>\n",
       "      <td>Veteran</td>\n",
       "      <td>Nytrøa</td>\n",
       "      <td>6166</td>\n",
       "      <td>Sæbø</td>\n",
       "      <td>NaN</td>\n",
       "      <td>NaN</td>\n",
       "    </tr>\n",
       "    <tr>\n",
       "      <th>1</th>\n",
       "      <td>87</td>\n",
       "      <td>Hanne</td>\n",
       "      <td>AASEN</td>\n",
       "      <td>22.05.1970</td>\n",
       "      <td>F</td>\n",
       "      <td>Senior</td>\n",
       "      <td>Krokveien</td>\n",
       "      <td>6399</td>\n",
       "      <td>Vestnes</td>\n",
       "      <td>NaN</td>\n",
       "      <td>NaN</td>\n",
       "    </tr>\n",
       "    <tr>\n",
       "      <th>2</th>\n",
       "      <td>99</td>\n",
       "      <td>Solveig</td>\n",
       "      <td>ABRAHAMSEN</td>\n",
       "      <td>08.05.1974</td>\n",
       "      <td>F</td>\n",
       "      <td>Senior</td>\n",
       "      <td>Langsæterlia</td>\n",
       "      <td>6687</td>\n",
       "      <td>Valsøyfjorden</td>\n",
       "      <td>NaN</td>\n",
       "      <td>NaN</td>\n",
       "    </tr>\n",
       "    <tr>\n",
       "      <th>3</th>\n",
       "      <td>71</td>\n",
       "      <td>Karen</td>\n",
       "      <td>AHMED</td>\n",
       "      <td>23.07.1966</td>\n",
       "      <td>F</td>\n",
       "      <td>Veteran</td>\n",
       "      <td>Rødalsveien</td>\n",
       "      <td>6239</td>\n",
       "      <td>Sykkylven</td>\n",
       "      <td>NaN</td>\n",
       "      <td>NaN</td>\n",
       "    </tr>\n",
       "    <tr>\n",
       "      <th>4</th>\n",
       "      <td>52</td>\n",
       "      <td>Emma</td>\n",
       "      <td>ALI</td>\n",
       "      <td>05.11.1957</td>\n",
       "      <td>F</td>\n",
       "      <td>Veteran</td>\n",
       "      <td>Sottdalen</td>\n",
       "      <td>6051</td>\n",
       "      <td>Valderøy</td>\n",
       "      <td>NaN</td>\n",
       "      <td>NaN</td>\n",
       "    </tr>\n",
       "  </tbody>\n",
       "</table>\n",
       "</div>"
      ],
      "text/plain": [
       "   Medlemsnummer  Fornavn   Etternavn Fødselsdato Kjønn Medlemstype  \\\n",
       "0             62    Sahra         AAS  28.03.1963     F     Veteran   \n",
       "1             87    Hanne       AASEN  22.05.1970     F      Senior   \n",
       "2             99  Solveig  ABRAHAMSEN  08.05.1974     F      Senior   \n",
       "3             71    Karen       AHMED  23.07.1966     F     Veteran   \n",
       "4             52     Emma         ALI  05.11.1957     F     Veteran   \n",
       "\n",
       "    Gateadresse  Postnummer       Poststed  Unnamed: 9  Unnamed: 10  \n",
       "0        Nytrøa        6166           Sæbø         NaN          NaN  \n",
       "1     Krokveien        6399        Vestnes         NaN          NaN  \n",
       "2  Langsæterlia        6687  Valsøyfjorden         NaN          NaN  \n",
       "3   Rødalsveien        6239      Sykkylven         NaN          NaN  \n",
       "4     Sottdalen        6051       Valderøy         NaN          NaN  "
      ]
     },
     "execution_count": 8,
     "metadata": {},
     "output_type": "execute_result"
    }
   ],
   "source": [
    "df_medlemmer = pd.read_csv('data/Datagrunnlag-Medlemmer.csv', sep=';')\n",
    "\n",
    "print(f\"Nullverdier:\\n{df_medlemmer.isnull().sum()}\")\n",
    "print(f\"Datarammens lengde: {len(df_medlemmer)}\")\n",
    "\n",
    "df_medlemmer.head()"
   ]
  },
  {
   "cell_type": "markdown",
   "metadata": {},
   "source": [
    "Vi ser raskt at:\n",
    "- Etternavn har en nullverdi\n",
    "- Kolonne 9 og 10 er tomme, sannsynligvis lagt inn ved et uhell, f.eks. eksportert fra Excel.\n",
    "- Skal etternavn være med store bokstaver?"
   ]
  },
  {
   "cell_type": "code",
   "execution_count": 9,
   "metadata": {},
   "outputs": [
    {
     "name": "stdout",
     "output_type": "stream",
     "text": [
      "Medlemsnummer\n",
      "42    4\n",
      "62    1\n",
      "99    1\n",
      "87    1\n",
      "52    1\n",
      "     ..\n",
      "66    1\n",
      "81    1\n",
      "97    1\n",
      "78    1\n",
      "90    1\n",
      "Name: count, Length: 96, dtype: int64\n"
     ]
    }
   ],
   "source": [
    "print(df_medlemmer['Medlemsnummer'].value_counts())"
   ]
  },
  {
   "cell_type": "markdown",
   "metadata": {},
   "source": [
    "Det kan virke som at medlem #42 er lagt inn flere ganger."
   ]
  },
  {
   "cell_type": "code",
   "execution_count": 10,
   "metadata": {},
   "outputs": [
    {
     "data": {
      "text/html": [
       "<div>\n",
       "<style scoped>\n",
       "    .dataframe tbody tr th:only-of-type {\n",
       "        vertical-align: middle;\n",
       "    }\n",
       "\n",
       "    .dataframe tbody tr th {\n",
       "        vertical-align: top;\n",
       "    }\n",
       "\n",
       "    .dataframe thead th {\n",
       "        text-align: right;\n",
       "    }\n",
       "</style>\n",
       "<table border=\"1\" class=\"dataframe\">\n",
       "  <thead>\n",
       "    <tr style=\"text-align: right;\">\n",
       "      <th></th>\n",
       "      <th>Medlemsnummer</th>\n",
       "      <th>Fornavn</th>\n",
       "      <th>Etternavn</th>\n",
       "      <th>Fødselsdato</th>\n",
       "      <th>Kjønn</th>\n",
       "      <th>Medlemstype</th>\n",
       "      <th>Gateadresse</th>\n",
       "      <th>Postnummer</th>\n",
       "      <th>Poststed</th>\n",
       "      <th>Unnamed: 9</th>\n",
       "      <th>Unnamed: 10</th>\n",
       "    </tr>\n",
       "  </thead>\n",
       "  <tbody>\n",
       "    <tr>\n",
       "      <th>52</th>\n",
       "      <td>42</td>\n",
       "      <td>Stein</td>\n",
       "      <td>JØRGENSEN</td>\n",
       "      <td>19.12.1940</td>\n",
       "      <td>M</td>\n",
       "      <td>veteran</td>\n",
       "      <td>Vollanveien</td>\n",
       "      <td>6239</td>\n",
       "      <td>Sykkylven</td>\n",
       "      <td>NaN</td>\n",
       "      <td>NaN</td>\n",
       "    </tr>\n",
       "    <tr>\n",
       "      <th>59</th>\n",
       "      <td>42</td>\n",
       "      <td>Ludvig</td>\n",
       "      <td>LARSEN</td>\n",
       "      <td>08.02.1914</td>\n",
       "      <td>M</td>\n",
       "      <td>veteran</td>\n",
       "      <td>Frendstadgjelen</td>\n",
       "      <td>6065</td>\n",
       "      <td>Ulsteinvik</td>\n",
       "      <td>NaN</td>\n",
       "      <td>NaN</td>\n",
       "    </tr>\n",
       "    <tr>\n",
       "      <th>80</th>\n",
       "      <td>42</td>\n",
       "      <td>Hansd</td>\n",
       "      <td>RASMUSSEN</td>\n",
       "      <td>19.02.1953</td>\n",
       "      <td>M</td>\n",
       "      <td>senior</td>\n",
       "      <td>Støa</td>\n",
       "      <td>6639</td>\n",
       "      <td>Torvikbukt</td>\n",
       "      <td>NaN</td>\n",
       "      <td>NaN</td>\n",
       "    </tr>\n",
       "    <tr>\n",
       "      <th>86</th>\n",
       "      <td>42</td>\n",
       "      <td>Karl</td>\n",
       "      <td>SOLBERG</td>\n",
       "      <td>10.09.1947</td>\n",
       "      <td>M</td>\n",
       "      <td>veteran</td>\n",
       "      <td>Storinnsjøveien</td>\n",
       "      <td>6390</td>\n",
       "      <td>Vestnes</td>\n",
       "      <td>NaN</td>\n",
       "      <td>NaN</td>\n",
       "    </tr>\n",
       "  </tbody>\n",
       "</table>\n",
       "</div>"
      ],
      "text/plain": [
       "    Medlemsnummer Fornavn  Etternavn Fødselsdato Kjønn Medlemstype  \\\n",
       "52             42   Stein  JØRGENSEN  19.12.1940     M     veteran   \n",
       "59             42  Ludvig     LARSEN  08.02.1914     M     veteran   \n",
       "80             42   Hansd  RASMUSSEN  19.02.1953     M      senior   \n",
       "86             42    Karl    SOLBERG  10.09.1947     M     veteran   \n",
       "\n",
       "        Gateadresse  Postnummer    Poststed  Unnamed: 9  Unnamed: 10  \n",
       "52      Vollanveien        6239   Sykkylven         NaN          NaN  \n",
       "59  Frendstadgjelen        6065  Ulsteinvik         NaN          NaN  \n",
       "80             Støa        6639  Torvikbukt         NaN          NaN  \n",
       "86  Storinnsjøveien        6390     Vestnes         NaN          NaN  "
      ]
     },
     "execution_count": 10,
     "metadata": {},
     "output_type": "execute_result"
    }
   ],
   "source": [
    "df_medlemmer[df_medlemmer['Medlemsnummer'] == 42]"
   ]
  },
  {
   "cell_type": "markdown",
   "metadata": {},
   "source": [
    "Her er det definitivt noe snusk vi må ta tak i med kunden."
   ]
  },
  {
   "cell_type": "code",
   "execution_count": null,
   "metadata": {},
   "outputs": [
    {
     "name": "stdout",
     "output_type": "stream",
     "text": [
      "Kunne ikke tolke Medlemsnummer som string.\n",
      "--- Gateadresse ---\n",
      "Antall feil: 3\n",
      "    Medlemsnummer   Fornavn    Etternavn Fødselsdato Kjønn Medlemstype  \\\n",
      "38             15   William       HAUGEN  22.01.1929     M     veteran   \n",
      "57              8   Theodor  KRISTIANSEN  14.03.1915     M     veteran   \n",
      "82             72  Ingeborg      RØNNING  23.07.2009     F      junior   \n",
      "\n",
      "          Gateadresse  Postnummer Poststed  Unnamed: 9  Unnamed: 10  \n",
      "38  Kviknebronaveien         6201  Stranda         NaN          NaN  \n",
      "57  Brevadsæterveien         6101    Volda         NaN          NaN  \n",
      "82            Stølen         6250  Stordal         NaN          NaN  \n",
      "\n",
      "Kunne ikke tolke Postnummer som string.\n",
      "Kunne ikke tolke Unnamed: 9 som string.\n",
      "Kunne ikke tolke Unnamed: 10 som string.\n"
     ]
    }
   ],
   "source": [
    "df_med_nona = df_medlemmer.dropna()\n",
    "\n",
    "for col in df_medlemmer.columns:\n",
    "    try:\n",
    "        has_errors = df_medlemmer[df_medlemmer[col].str.startswith(' ') | df_medlemmer[col].str.endswith(' ')]\n",
    "        if len(has_errors) > 0:\n",
    "            print(f\"--- {col} ---\")\n",
    "            print(f\"Antall feil: {len(has_errors)}\")\n",
    "            print()\n",
    "            print(has_errors)\n",
    "            print()\n",
    "    except:\n",
    "        print(f\"Kunne ikke tolke {col} som string.\")"
   ]
  },
  {
   "cell_type": "markdown",
   "metadata": {},
   "source": [
    "Vi ser at Gateadresse har feilen vi la merke til tidligere med mellomrom foran/bak."
   ]
  },
  {
   "cell_type": "code",
   "execution_count": 12,
   "metadata": {},
   "outputs": [
    {
     "name": "stdout",
     "output_type": "stream",
     "text": [
      "Postnummer\n",
      "6601    3\n",
      "6399    2\n",
      "6166    2\n",
      "6239    2\n",
      "6051    2\n",
      "6630    2\n",
      "6067    2\n",
      "6213    2\n",
      "6070    2\n",
      "6264    2\n",
      "6656    2\n",
      "6642    2\n",
      "6686    2\n",
      "6650    2\n",
      "6214    2\n",
      "6100    2\n",
      "6390    2\n",
      "6230    2\n",
      "6687    2\n",
      "6058    2\n",
      "6392    2\n",
      "6396    2\n",
      "6283    2\n",
      "6170    2\n",
      "6144    2\n",
      "6050    2\n",
      "6281    2\n",
      "6280    2\n",
      "6210    2\n",
      "6250    2\n",
      "6265    2\n",
      "6201    2\n",
      "6645    2\n",
      "6259    2\n",
      "6393    2\n",
      "6263    2\n",
      "6065    2\n",
      "6639    2\n",
      "6140    2\n",
      "6165    2\n",
      "6101    2\n",
      "6494    2\n",
      "6211    2\n",
      "6310    2\n",
      "6398    2\n",
      "6600    2\n",
      "6683    2\n",
      "554     1\n",
      "6260    1\n",
      "6688    1\n",
      "6200    1\n",
      "Name: count, dtype: int64\n"
     ]
    }
   ],
   "source": [
    "print(df_medlemmer['Postnummer'].value_counts())"
   ]
  },
  {
   "cell_type": "markdown",
   "metadata": {},
   "source": [
    "Legger merke til at postnumrene er lagt inn som tall. Er dette hensiktsmessig? Verdien 554 burde kanskje hatt en ledende 0. Samtidig, dette kan jo være 6554."
   ]
  },
  {
   "cell_type": "code",
   "execution_count": 13,
   "metadata": {},
   "outputs": [
    {
     "name": "stdout",
     "output_type": "stream",
     "text": [
      "Medlemstype\n",
      "veteran    53\n",
      "senior     35\n",
      "junior      5\n",
      "Veteran     4\n",
      "Senior      2\n",
      "Name: count, dtype: int64\n"
     ]
    }
   ],
   "source": [
    "print(df_medlemmer['Medlemstype'].value_counts())"
   ]
  },
  {
   "cell_type": "markdown",
   "metadata": {},
   "source": [
    "Medlemstype må vaskes."
   ]
  },
  {
   "cell_type": "markdown",
   "metadata": {},
   "source": []
  }
 ],
 "metadata": {
  "kernelspec": {
   "display_name": ".venv",
   "language": "python",
   "name": "python3"
  },
  "language_info": {
   "codemirror_mode": {
    "name": "ipython",
    "version": 3
   },
   "file_extension": ".py",
   "mimetype": "text/x-python",
   "name": "python",
   "nbconvert_exporter": "python",
   "pygments_lexer": "ipython3",
   "version": "3.12.5"
  }
 },
 "nbformat": 4,
 "nbformat_minor": 2
}
